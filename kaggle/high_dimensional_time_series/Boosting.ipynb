{
 "cells": [
  {
   "cell_type": "markdown",
   "metadata": {},
   "source": [
    "### Strategy\n",
    "\n",
    "Featurization will occur over time, holding only a few days in RAM at a time."
   ]
  },
  {
   "cell_type": "code",
   "execution_count": 1,
   "metadata": {
    "collapsed": true
   },
   "outputs": [],
   "source": [
    "# Libraries\n",
    "import os \n",
    "import pickle \n",
    "import itertools \n",
    "import pandas as pd \n",
    "import numpy as np \n",
    "import matplotlib.pyplot as plt \n",
    "import progress_bar as pb \n",
    "import sklearn.ensemble \n",
    "from sklearn.metrics import mean_squared_error \n",
    "from sklearn.utils import shuffle \n",
    "from datetime import datetime\n",
    "from multiprocessing.pool import ThreadPool \n",
    "from pathlib import Path "
   ]
  },
  {
   "cell_type": "code",
   "execution_count": 2,
   "metadata": {
    "collapsed": true
   },
   "outputs": [],
   "source": [
    "# Load data \n",
    "holidays_df = pd.read_csv('data/holidays_events.csv') \n",
    "items_df = pd.read_csv('data/items.csv') \n",
    "oil_df = pd.read_csv('data/oil.csv') \n",
    "stores_df = pd.read_csv('data/stores.csv') \n",
    "txns_df = pd.read_csv('data/transactions.csv') \n",
    "test_df = pd.read_csv('data/test.csv') \n",
    "out_df = pd.read_csv('data/sample_submission.csv') "
   ]
  },
  {
   "cell_type": "code",
   "execution_count": 3,
   "metadata": {},
   "outputs": [
    {
     "name": "stdout",
     "output_type": "stream",
     "text": [
      "min date idx: 15706, max date idx: 17409\n"
     ]
    }
   ],
   "source": [
    "# Get training data file paths \n",
    "date_dir = 'data/train_partitioned_by_day/' \n",
    "test_date_dir = 'data/test_partitioned_by_day/'\n",
    "date_file_names = os.listdir( date_dir ) \n",
    "date_file_names.extend( os.listdir( test_date_dir ) ) \n",
    "dates_str = [ x.split('_')[1].split('.')[0] for x in date_file_names ] \n",
    "dates_dict_str_to_npdatetime64 = dict(zip( dates_str , np.array( dates_str , dtype='datetime64' ) ))  \n",
    "dates_dict_str_to_int = dict(zip( dates_str , [ x.astype('uint64') for x in np.array( dates_str , dtype='datetime64' ) ] )) \n",
    "dates_dict_int_to_str = dict(zip( [ x.astype('uint64') for x in np.array( dates_str , dtype='datetime64' ) ] , dates_str )) \n",
    "\n",
    "# get date sorted date strings \n",
    "date_min_idx = np.min( dates_dict_str_to_int.values() ) \n",
    "date_max_idx = np.max( dates_dict_str_to_int.values() ) \n",
    "print( 'min date idx: ' + str(date_min_idx) + ', max date idx: ' + str(date_max_idx) )\n",
    "date_idxs = range( int(date_min_idx) , int(date_max_idx+1) ) \n",
    "sorted_date_strs = pd.to_datetime( date_idxs , unit='D' ).strftime('%Y-%m-%d') # includes a few for which no files exist \n",
    "date_dict_idx_to_str = dict(zip( date_idxs , sorted_date_strs )) "
   ]
  },
  {
   "cell_type": "code",
   "execution_count": 4,
   "metadata": {
    "collapsed": true
   },
   "outputs": [],
   "source": [
    "# Interpolate missing oil prices \n",
    "\n",
    "# This loop adds missing prices, but some dates are still missing too!  \n",
    "oil_df.iloc[ 0 , 1 ] = 93.14 \n",
    "prev_price = 93.14 \n",
    "for i in range( oil_df.shape[0] ) : \n",
    "    if np.isnan( oil_df.iloc[i,1] ) : \n",
    "        oil_df.iloc[i,1] = prev_price \n",
    "    prev_price = oil_df.iloc[ i , 1 ] \n",
    "\n",
    "# Convert to dict with no missing dates \n",
    "oil_dict = {} \n",
    "last_price = 93.14 \n",
    "for date in sorted_date_strs : \n",
    "    try : \n",
    "        last_price = oil_df.loc[ oil_df['date'] == date , 'dcoilwtico' ].iloc[0] \n",
    "        oil_dict[ date ] = last_price \n",
    "    except : \n",
    "        oil_dict[ date ] = last_price "
   ]
  },
  {
   "cell_type": "code",
   "execution_count": 5,
   "metadata": {},
   "outputs": [
    {
     "data": {
      "image/png": "[encoded data removed]",
      "text/plain": [
       "<matplotlib.figure.Figure at 0x7f769c4facd0>"
      ]
     },
     "metadata": {},
     "output_type": "display_data"
    }
   ],
   "source": [
    "# Test conversion with a plot \n",
    "oil_date = [] \n",
    "oil_price = [] \n",
    "for date_str in sorted_date_strs : \n",
    "    oil_date.append( datetime.strptime( date_str , '%Y-%m-%d' ) ) \n",
    "    oil_price.append( oil_dict[ date_str ] ) \n",
    "\n",
    "plt.plot( oil_date , oil_price ) \n",
    "plt.title( 'interpolated price of oil over time' )\n",
    "plt.show()"
   ]
  },
  {
   "cell_type": "code",
   "execution_count": 6,
   "metadata": {},
   "outputs": [],
   "source": [
    "# Load all data, one day at a time \n",
    "first_test_date_idx = 17394\n",
    "\n",
    "def load_raw_training_data() : \n",
    "    date_dict_str_to_df = dict() \n",
    "    for i in pb.log_progress(date_idxs , every=10 ) : \n",
    "        date_str = date_dict_idx_to_str[i] \n",
    "        path = None \n",
    "        if i < first_test_date_idx : # traing dates \n",
    "            path = date_dir + 'date_' + date_str + '.csv' \n",
    "        else : # testing dates  \n",
    "            path = test_date_dir + 'date_' + date_str + '.csv' \n",
    "        if os.path.exists( path ) : \n",
    "            date_dict_str_to_df[ date_str ] = pd.read_csv( path ) \n",
    "        else : \n",
    "            date_dict_str_to_df[ date_str ] = None \n",
    "    return date_dict_str_to_df \n",
    "\n",
    "date_dict_str_to_df = [] # load_raw_training_data() # loaded only if necessary  "
   ]
  },
  {
   "cell_type": "code",
   "execution_count": 7,
   "metadata": {},
   "outputs": [],
   "source": [
    "## Example \n",
    "#example_row = date_dict_str_to_df[ sorted_date_strs[0] ].iloc[0]\n",
    "#print( 'Example row:\\n' + str( example_row ) ) \n",
    "## Access it like a dictionary \n",
    "#print( \"\\nexample_row['item_nbr']: \" + str( example_row['item_nbr'] ) )"
   ]
  },
  {
   "cell_type": "markdown",
   "metadata": {},
   "source": [
    "## Featurization \n",
    "\n",
    "All predictions will be made available for (product, store, date) (**psd**) triples, since the test set is composed according to such."
   ]
  },
  {
   "cell_type": "code",
   "execution_count": 9,
   "metadata": {},
   "outputs": [],
   "source": [
    "all_products = items_df['item_nbr'].unique() \n",
    "all_stores = stores_df['store_nbr'].unique() \n",
    "all_date_idxs = date_idxs # previously constructed \n",
    "# psd_triples = itertools.product( all_products , all_stores , all_date_idxs ) \n",
    "# psd_triples = [ [ x[0] , x[1] , x[2] ] for x in psd_triples ] # RAM usage too great \n",
    "max_lag = 101 # autocorrelative statistics may be taken up to time max_lag \n",
    "predictive_horizon = len(all_date_idxs) - 16 - 16 # - predictive duration - testing dates \n",
    "psd_triples_len = len(all_products) * len(all_stores) * len(all_date_idxs[max_lag:predictive_horizon]) \n",
    "# print( 'len(psd_triples): ' + str( psd_triples_len ) ) # 373723200 \n",
    "# Too many features to compute on one node, so we'll use a random subset. \n",
    "# Use itertools.islice to quickly jump through psd_triples. \n",
    "\n",
    "SAMPLE_SIZE = 100000 # about 24 hrs of compute per 100K data \n",
    "sample_idx = np.random.randint( low=0 , high = psd_triples_len-1 , size = SAMPLE_SIZE )\n",
    "\n",
    "def feature_encode_units_sales ( psd , time_del=0 ) :\n",
    "    item_nbr  = psd[0] \n",
    "    store_nbr = psd[1]\n",
    "    date_idx  = psd[2] + time_del \n",
    "    date_str = date_dict_idx_to_str[ date_idx ] \n",
    "    date_df = date_dict_str_to_df[ date_str ] \n",
    "    if date_df is None : \n",
    "        return [0] \n",
    "    unit_sales = date_df[ 'unit_sales' ].loc[ ( date_df[ 'item_nbr' ] == item_nbr ) \n",
    "                                 & ( date_df[ 'store_nbr' ] == store_nbr ) \n",
    "                                 & ( date_df[ 'date' ] == date_str ) ] \n",
    "    if len(unit_sales) == 0 : \n",
    "        return [0] \n",
    "    unit_sales = unit_sales.iloc[0] \n",
    "    if unit_sales < 0. : \n",
    "        return [0] \n",
    "    return [ np.log1p( unit_sales ) ] \n",
    "\n",
    "def feature_encode_perishable ( psd ) : \n",
    "    return [ items_df.loc[ items_df['item_nbr'] == psd[0] , 'perishable' ].iloc[0] ] \n",
    "\n",
    "def feature_encode_store ( psd ) :\n",
    "    store_nbr = psd[1] \n",
    "    one_hot = np.zeros( 54 ) # 54 locations total \n",
    "    one_hot[ store_nbr-1 ] = 1 \n",
    "    return one_hot \n",
    "\n",
    "def feature_encode_item_family ( psd ) :\n",
    "    item_nbr = psd[0] \n",
    "    family = items_df.loc[ items_df['item_nbr'] == item_nbr , 'family' ].iloc[0] # returns a series of one item \n",
    "    one_hot = np.zeros( 33 ) \n",
    "    one_hot[ feature_encode_item_family.family_dict[ family ] ] = 1 \n",
    "    return one_hot \n",
    "feature_encode_item_family.family_dict = dict(zip( items_df['family'].unique() , range(33) )) \n",
    "\n",
    "def feature_encode_item_class ( psd ) :\n",
    "    item_nbr = psd[0] \n",
    "    class_fe = items_df.loc[ items_df['item_nbr'] == item_nbr , 'class' ].iloc[0] \n",
    "    one_hot = np.zeros( 337 ) # 337 total classes \n",
    "    one_hot[ feature_encode_item_class.class_dict[ class_fe ] ] = 1 \n",
    "    return one_hot\n",
    "feature_encode_item_class.class_dict = dict( zip( items_df['class'].unique() , range(337) ) )\n",
    "\n",
    "def feature_encode_total_sales_by_family ( psd , date_lag=1 ) :\n",
    "    '''Calculates the average unit_sales for a given date_df,\n",
    "    thereby allowing autoregression.'''\n",
    "    item_nbr = psd[0] \n",
    "    date_idx = psd[2] - date_lag \n",
    "    if date_idx < date_min_idx : \n",
    "        return [0.] \n",
    "    date_df = date_dict_str_to_df[ date_dict_idx_to_str[ date_idx ] ] \n",
    "    if date_df is None : \n",
    "        return [0.] \n",
    "    item_family = items_df.loc[ items_df['item_nbr'] == item_nbr , 'family' ].iloc[0] \n",
    "    items = items_df.loc[ items_df['family'] == item_family , 'item_nbr' ] \n",
    "    sales = date_df.loc[ (date_df['item_nbr'].isin(items) ) , 'unit_sales' ] \n",
    "    if len(sales) == 0 : \n",
    "        return [0.] \n",
    "    total = sales.sum() \n",
    "    if total < 0. : \n",
    "        total = 0.  \n",
    "    return [total] \n",
    "\n",
    "def feature_encode_total_sales_by_class (psd , date_lag=1 ) :\n",
    "    item_nbr = psd[0] \n",
    "    date_idx = psd[2] - date_lag \n",
    "    if date_idx < date_min_idx : \n",
    "        return [0.] \n",
    "    date_df = date_dict_str_to_df[ date_dict_idx_to_str[ date_idx ] ] \n",
    "    if date_df is None : \n",
    "        return [0.] \n",
    "    item_class = items_df.loc[ items_df['item_nbr'] == item_nbr , 'class' ].iloc[0]\n",
    "    items = items_df.loc[ items_df['class'] == item_class , 'item_nbr' ] \n",
    "    sales = date_df.loc[ date_df['item_nbr'].isin(items) , 'unit_sales' ] \n",
    "    if len(sales) == 0 : \n",
    "        return [0.] \n",
    "    total = sales.sum() \n",
    "    if total < 0. : \n",
    "        total = 0.  \n",
    "    return [total] \n",
    "\n",
    "def feature_encode_promotion ( psd ) :\n",
    "    item_nbr  = psd[0] \n",
    "    store_nbr = psd[1]\n",
    "    date_idx  = psd[2] \n",
    "    date_str = date_dict_idx_to_str[ date_idx ] \n",
    "    date_df = date_dict_str_to_df[ date_str ] \n",
    "    if date_df is None : \n",
    "        return [-1] \n",
    "    promo = date_df[ 'onpromotion' ].loc[ ( date_df[ 'item_nbr' ] == item_nbr ) \n",
    "                                 & ( date_df[ 'store_nbr' ] == store_nbr ) \n",
    "                                 & ( date_df[ 'date' ] == date_str ) ] \n",
    "    if len( promo ) == 0 : \n",
    "        return [-2] \n",
    "    promo = promo.iloc[0] \n",
    "    if np.isnan( promo ) : \n",
    "        return [-3] \n",
    "    return [promo] \n",
    "\n",
    "def feature_encode_time ( psd ) : \n",
    "    return [ psd[2] ]\n",
    "\n",
    "def feature_encode_day_of_year ( psd ) : \n",
    "    date_str = date_dict_idx_to_str[ psd[2] ] \n",
    "    return [ datetime.strptime( date_str , '%Y-%m-%d' ).timetuple().tm_yday ]\n",
    "\n",
    "def feature_encode_day_of_week ( psd ) : \n",
    "    date_str = date_dict_idx_to_str[ psd[2] ] \n",
    "    return [ datetime.strptime( date_str , '%Y-%m-%d' ).timetuple().tm_wday ] \n",
    "\n",
    "def feature_encode_oil( psd ) : \n",
    "    date_idx  = psd[2] \n",
    "    date_str = date_dict_idx_to_str[ date_idx ] \n",
    "    return [ oil_dict[ date_str ] ]\n",
    "    # print( 'DEBUG 1: ' + str(oil_df.loc[ oil_df['date'] == date_str , 'dcoilwtico' ]) )\n",
    "    # return [ oil_df.loc[ oil_df['date'] == date_str , 'dcoilwtico' ].iloc[0] ] \n",
    "\n",
    "def build_feature_vector ( psd ) : \n",
    "    features = [] \n",
    "    for i in range(16) : # test range is over 16 time steps  \n",
    "        features.extend( feature_encode_units_sales( psd , time_del=i ) ) \n",
    "    features.extend( feature_encode_perishable( psd ) ) \n",
    "    features.extend( feature_encode_store( psd ) ) \n",
    "    features.extend( feature_encode_item_family( psd ) ) \n",
    "    features.extend( feature_encode_item_class( psd ) )  \n",
    "    features.extend( feature_encode_total_sales_by_family( psd ) ) \n",
    "    features.extend( feature_encode_total_sales_by_class( psd ) ) \n",
    "    features.extend( feature_encode_promotion( psd ) ) \n",
    "    features.extend( feature_encode_time( psd ) ) \n",
    "    features.extend( feature_encode_day_of_year( psd ) ) \n",
    "    features.extend( feature_encode_day_of_week( psd ) ) \n",
    "    features.extend( feature_encode_oil( psd ) ) \n",
    "    # Autocorrelative features \n",
    "    for i in range(1,11) : \n",
    "        features.extend( feature_encode_units_sales( psd , time_del=-i ) ) \n",
    "        features.extend( feature_encode_total_sales_by_family( psd , date_lag=i ) )  \n",
    "        features.extend( feature_encode_total_sales_by_class( psd , date_lag=i ) ) \n",
    "    for i in range(1,11) : \n",
    "        features.extend( feature_encode_units_sales( psd , time_del=-i*10 ) ) \n",
    "        features.extend( feature_encode_total_sales_by_family( psd , date_lag=i*10 ) ) \n",
    "        features.extend( feature_encode_total_sales_by_class( psd , date_lag=i*10 ) ) \n",
    "    return features \n",
    "\n",
    "# Uniquely index the cartesian product (all_products X all_stores X all_date_idxs) \n",
    "def index_to_tuple ( idx ) : \n",
    "    i = idx % len(all_products) \n",
    "    j = (idx / len(all_products)) % len(all_stores) \n",
    "    k = (idx / (len(all_products)*len(all_stores))) % len(all_date_idxs[max_lag:predictive_horizon]) \n",
    "    return ( all_products[i] , all_stores[j] , all_date_idxs[max_lag:predictive_horizon][k] ) , (i,j,k) \n",
    "\n",
    "def triple_to_index ( i , j , k ) : \n",
    "    '''inverse to index_to_tuple''' \n",
    "    return i + j*len(all_products) + k*len(all_products)*len(all_date_idxs[max_lag:predictive_horizon]) \n",
    "\n",
    "# Compute featurization \n",
    "def compute_featurization ( future_projection=0 ) : \n",
    "    data = [] \n",
    "    for idx in pb.log_progress( sample_idx , every=1 ) : \n",
    "        psd , _ = index_to_tuple( idx ) \n",
    "        data.append( build_feature_vector( psd )  ) \n",
    "    return data \n",
    "\n",
    "#test_psd , _ = index_to_tuple( 0 ) \n",
    "#test_feature_vector = build_feature_vector( test_psd ) \n",
    "#print( 'Number of features: ' + str(len( test_feature_vector )) ) "
   ]
  },
  {
   "cell_type": "code",
   "execution_count": 11,
   "metadata": {},
   "outputs": [],
   "source": [
    "# Run featurization \n",
    "data = None \n",
    "if Path('data/training_data_matrix.csv').exists() : \n",
    "    # load it \n",
    "    data = pd.read_csv('data/training_data_matrix.csv').as_matrix()[:,1:] \n",
    "else : \n",
    "    # load requisite data \n",
    "    date_dict_str_to_df = [] # load_raw_training_data() \n",
    "    # compute it \n",
    "    data = compute_featurization() # This NEVER finishes! I computed it on AWS with Apache Spark.  \n",
    "    # save it, because that took too long! \n",
    "    # np.savetxt( 'training_data_matrix.txt' , np.array(data)) # don't overwrite spark data  "
   ]
  },
  {
   "cell_type": "code",
   "execution_count": 12,
   "metadata": {},
   "outputs": [
    {
     "data": {
      "image/png": "[encoded data removed]",
      "text/plain": [
       "<matplotlib.figure.Figure at 0x7f7646a96a50>"
      ]
     },
     "metadata": {},
     "output_type": "display_data"
    }
   ],
   "source": [
    "active_stores_per_time = txns_df.groupby('date')['store_nbr'].nunique() \n",
    "active_stores_times = np.array( txns_df['date'].unique() , dtype='datetime64' )\n",
    "plt.plot( active_stores_times , active_stores_per_time )\n",
    "plt.title( 'Active stores over time' )\n",
    "plt.show()"
   ]
  },
  {
   "cell_type": "markdown",
   "metadata": {},
   "source": [
    "## Data formatting"
   ]
  },
  {
   "cell_type": "code",
   "execution_count": 13,
   "metadata": {
    "collapsed": true
   },
   "outputs": [],
   "source": [
    "# Reshape data \n",
    "data = np.array(data)\n",
    "\n",
    "data = shuffle( data ) \n",
    "\n",
    "y = data[:,:16] \n",
    "x = data[:,16:] \n",
    "weights = [ w*0.25 + 1. for w in x[:,0] ] \n",
    "\n",
    "offset = int( np.floor( SAMPLE_SIZE * .9 ) ) \n",
    "x_train, y_train = x[:offset], y[:offset]\n",
    "x_valid, y_valid = x[offset:], y[offset:]\n",
    "weights = weights[:offset]"
   ]
  },
  {
   "cell_type": "code",
   "execution_count": 14,
   "metadata": {},
   "outputs": [
    {
     "data": {
      "image/png": "[encoded data removed]",
      "text/plain": [
       "<matplotlib.figure.Figure at 0x7f7646a05210>"
      ]
     },
     "metadata": {},
     "output_type": "display_data"
    }
   ],
   "source": [
    "plt.hist( y[:,0] ) \n",
    "plt.title( 'Histogram of y values' )\n",
    "plt.show()"
   ]
  },
  {
   "cell_type": "markdown",
   "metadata": {},
   "source": [
    "## Boosting"
   ]
  },
  {
   "cell_type": "code",
   "execution_count": 15,
   "metadata": {
    "collapsed": true
   },
   "outputs": [],
   "source": [
    "model_paths = [ 'models/model_' + str(i) + '.pickle' for i in range(16) ] \n",
    "models = None \n",
    "\n",
    "def save_models( models ) : \n",
    "    for i in range(16) : \n",
    "        with open( model_paths[i] , 'wb') as handle : \n",
    "            pickle.dump( models[i] , handle, protocol=pickle.HIGHEST_PROTOCOL)\n",
    "\n",
    "def train_model ( i ) : \n",
    "    gbr = sklearn.ensemble.GradientBoostingRegressor() \n",
    "    gbr.fit( x_train , y_train[:,i] , sample_weight = weights ) \n",
    "    return gbr\n",
    "\n",
    "def train_models() : \n",
    "    # multi-thread \n",
    "    pool = ThreadPool( 8 ) \n",
    "    pool_out = [ pool.apply_async( train_model , (i,) ) for i in range(16) ] \n",
    "    \n",
    "    models = [] \n",
    "    for i in pb.log_progress( range(16) , every=1 ) : \n",
    "        models.append( pool_out[i].get() ) \n",
    "    return models \n",
    "\n",
    "def load_models() : \n",
    "    models = []\n",
    "    for i in pb.log_progress( range(16) , every=1 ) : \n",
    "        with open( model_paths[i] , 'rb') as handle : \n",
    "            models.append( pickle.load(handle) ) \n",
    "    return models \n",
    "\n",
    "def get_models() : \n",
    "    models_exist = [ Path( model_paths[i] ).exists() for i in range(16) ] \n",
    "    if all( models_exist ) : \n",
    "        return load_models() \n",
    "    models = train_models() \n",
    "    save_models( models ) \n",
    "    return models "
   ]
  },
  {
   "cell_type": "code",
   "execution_count": 16,
   "metadata": {},
   "outputs": [
    {
     "name": "stderr",
     "output_type": "stream",
     "text": [
      "Widget Javascript not detected.  It may not be installed or enabled properly.\n"
     ]
    },
    {
     "data": {
      "application/vnd.jupyter.widget-view+json": {
       "model_id": "130c58a2233c4124bc9d2b04a7636d69"
      }
     },
     "metadata": {},
     "output_type": "display_data"
    }
   ],
   "source": [
    "models = get_models() "
   ]
  },
  {
   "cell_type": "markdown",
   "metadata": {},
   "source": [
    "## Evaluation"
   ]
  },
  {
   "cell_type": "code",
   "execution_count": 17,
   "metadata": {},
   "outputs": [
    {
     "name": "stderr",
     "output_type": "stream",
     "text": [
      "Widget Javascript not detected.  It may not be installed or enabled properly.\n"
     ]
    },
    {
     "data": {
      "application/vnd.jupyter.widget-view+json": {
       "model_id": "155c3501bbc2401db2386460b8352a8d"
      }
     },
     "metadata": {},
     "output_type": "display_data"
    },
    {
     "name": "stdout",
     "output_type": "stream",
     "text": [
      "training MSE: 0.262622586444, validating MSE: 0.267411714428\n"
     ]
    }
   ],
   "source": [
    "# Training MSE \n",
    "mse_train_list = [] \n",
    "mse_valid_list = [] \n",
    "for i in pb.log_progress( range(16) , every=1 ) : \n",
    "    mse_train_list.append( mean_squared_error(y_train[:,i], models[i].predict(x_train) ) )\n",
    "    mse_valid_list.append( mean_squared_error(y_valid[:,i], models[i].predict(x_valid) ) )\n",
    "\n",
    "mse_train = np.mean( mse_train_list ) \n",
    "mse_valid = np.mean( mse_valid_list ) \n",
    "print( 'training MSE: ' + str(mse_train) + ', validating MSE: ' + str(mse_valid) ) "
   ]
  },
  {
   "cell_type": "markdown",
   "metadata": {},
   "source": [
    "## Construct predictions for Kaggle"
   ]
  },
  {
   "cell_type": "code",
   "execution_count": 18,
   "metadata": {},
   "outputs": [],
   "source": [
    "def build_testing_feature_vector ( psd ) : \n",
    "    features = [] \n",
    "    # I've just commented out y-vector construction \n",
    "    #####################\n",
    "    #for i in range(16) : # test range is over 16 time steps  \n",
    "    #    features.extend( feature_encode_units_sales( psd , time_del=i ) ) \n",
    "    features.extend( feature_encode_perishable( psd ) ) \n",
    "    features.extend( feature_encode_store( psd ) ) \n",
    "    features.extend( feature_encode_item_family( psd ) ) \n",
    "    features.extend( feature_encode_item_class( psd ) )  \n",
    "    features.extend( feature_encode_total_sales_by_family( psd ) ) \n",
    "    features.extend( feature_encode_total_sales_by_class( psd ) ) \n",
    "    features.extend( feature_encode_promotion( psd ) ) \n",
    "    features.extend( feature_encode_time( psd ) ) \n",
    "    features.extend( feature_encode_day_of_year( psd ) ) \n",
    "    features.extend( feature_encode_day_of_week( psd ) ) \n",
    "    features.extend( feature_encode_oil( psd ) ) \n",
    "    # Autocorrelative features \n",
    "    for i in range(1,11) : \n",
    "        features.extend( feature_encode_units_sales( psd , time_del=-i ) ) \n",
    "        features.extend( feature_encode_total_sales_by_family( psd , date_lag=i ) )  \n",
    "        features.extend( feature_encode_total_sales_by_class( psd , date_lag=i ) ) \n",
    "    for i in range(1,11) : \n",
    "        features.extend( feature_encode_units_sales( psd , time_del=-i*10 ) ) \n",
    "        features.extend( feature_encode_total_sales_by_family( psd , date_lag=i*10 ) ) \n",
    "        features.extend( feature_encode_total_sales_by_class( psd , date_lag=i*10 ) ) \n",
    "    return features \n",
    "def build_testing_features() : \n",
    "    x_test = [ [] for _ in range(16) ] # tensor of design matrices indexed over time \n",
    "    x_test_keys = [ [] for _ in range(16) ]\n",
    "    for i in pb.log_progress( range( out_df.shape[0] ) , every=1 ) : \n",
    "        key = out_df['id'].iloc[i] \n",
    "        # get psd \n",
    "        p = test_df.loc[ test_df['id'] == key , 'item_nbr' ].iloc[0] \n",
    "        s = test_df.loc[ test_df['id'] == key , 'store_nbr' ].iloc[0] \n",
    "        d = first_test_date_idx # All testing data is predicted from the same point in time.   \n",
    "        psd = (p,s,d) \n",
    "        idx = int(d - first_test_date_idx)\n",
    "        x_test[ idx ].append( build_testing_feature_vector( psd ) ) \n",
    "        x_test_keys[ idx ].append( key ) \n",
    "    return np.array(x_test) , np.array(x_test_keys) \n",
    "\n",
    "x_test_file = 'data/testing_featurized.csv' \n",
    "#x_test_keys_file = 'testing_data_keys.txt' \n",
    "\n",
    "x_test = None\n",
    "x_test_keys = None \n",
    "if Path(x_test_file).exists() : # and Path(x_test_keys_file).exists() : \n",
    "    x_test = pd.read_csv( x_test_file ).as_matrix() \n",
    "    x_test_keys = x_test[:,0] \n",
    "    x_test = x_test[:,1:] \n",
    "else : \n",
    "    x_test , x_test_keys = build_testing_features() # MUST BE COMPUTED ON SPARK ! \n",
    "    #np.savetxt( x_test_file , x_test ) \n",
    "    #np.savetxt( x_test_keys_file , x_keys_test ) # don't overwrite spark data "
   ]
  },
  {
   "cell_type": "code",
   "execution_count": 37,
   "metadata": {},
   "outputs": [
    {
     "name": "stderr",
     "output_type": "stream",
     "text": [
      "Widget Javascript not detected.  It may not be installed or enabled properly.\n"
     ]
    },
    {
     "data": {
      "application/vnd.jupyter.widget-view+json": {
       "model_id": "5c56e4fc962d4f5b864def3a89bdb5cf"
      }
     },
     "metadata": {},
     "output_type": "display_data"
    }
   ],
   "source": [
    "# Make predictions \n",
    "y_test = [] \n",
    "for i in pb.log_progress( range(16) , every=1 ) : \n",
    "    y_test.append( models[i].predict( x_test ) ) \n",
    "\n",
    "# construct data frame \n",
    "pred_dict = { 'id' : range(125497040,128867503+1) , 'unit_sales' : np.concatenate( y_test ) } \n",
    "predictions = pd.DataFrame( data = pred_dict ) \n",
    "predictions['unit_sales'] = predictions['unit_sales'].apply( lambda(x) : np.exp(x)-1.0 ) # get out of log-scale \n",
    "# write predictions to disk \n",
    "predictions.to_csv( \"submission2.csv\" , index=False ) "
   ]
  }
 ],
 "metadata": {
  "kernelspec": {
   "display_name": "Python 2",
   "language": "python",
   "name": "python2"
  },
  "language_info": {
   "codemirror_mode": {
    "name": "ipython",
    "version": 2
   },
   "file_extension": ".py",
   "mimetype": "text/x-python",
   "name": "python",
   "nbconvert_exporter": "python",
   "pygments_lexer": "ipython2",
   "version": "2.7.13"
  }
 },
 "nbformat": 4,
 "nbformat_minor": 2
}
