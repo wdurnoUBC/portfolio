{
 "cells": [
  {
   "cell_type": "markdown",
   "metadata": {},
   "source": [
    "# Spam Detection\n",
    "**W. Evan Durno**\n",
    "\n",
    "In this analysis I run through a simple machine learning task: spam detection. This notebook illustrates the whole analytic process. Like most data science projects, this one progresses iteratively. Each cycle can be described with the following steps.\n",
    "\n",
    "1. Exploring data\n",
    "2. Strategy implementation\n",
    "3. Strategy evaluation\n",
    "\n",
    "# 0. Load libraries\n",
    "Be sure to have these libraries installed if you want to run this code."
   ]
  },
  {
   "cell_type": "code",
   "execution_count": 19,
   "metadata": {
    "collapsed": true
   },
   "outputs": [],
   "source": [
    "import pandas as pa \n",
    "import numpy as np\n",
    "import sklearn as sk \n",
    "from sklearn.cross_validation import train_test_split\n",
    "import re\n",
    "import matplotlib.pyplot as plt\n",
    "import gensim # word2vec \n",
    "from sklearn.manifold import TSNE\n",
    "from sklearn.naive_bayes import MultinomialNB"
   ]
  },
  {
   "cell_type": "markdown",
   "metadata": {},
   "source": [
    "# Cycle 1 - Largely exploratory\n",
    "The first attempt at solving a data science problem tends to be a highly informative failure, and this cycle is no exception. However, the process produces valuable insights and data products which are used in the final cycle.\n",
    "\n",
    "## 1A Exploring data\n",
    "\n",
    "#### Loading and formatting data\n",
    "\n",
    "Data are loaded from a CSV and formatted for readability and later ease-of-use later. Of utmost importance, training and testing data and randomly separated. The testing data set will not be utilized untill the evaluation phase. "
   ]
  },
  {
   "cell_type": "code",
   "execution_count": 20,
   "metadata": {
    "collapsed": true,
    "scrolled": true
   },
   "outputs": [],
   "source": [
    "# load data \n",
    "df = pa.DataFrame.from_csv( 'spam.csv' , index_col=None )\n",
    "\n",
    "# use logical column names  \n",
    "df.rename( columns = { df.columns[0] : 'is_spam' , df.columns[1] : 'strings' } , inplace=True )\n",
    "\n",
    "# Extract training and testing data \n",
    "train , test = train_test_split( df , test_size=0.2 ) \n",
    "\n",
    "# load stop words \n",
    "stop_words = open('stopwords.txt').readlines()\n",
    "stop_words = [ re.sub( '[\\n]' , '' , s ) for s in stop_words ]\n",
    "\n",
    "def prepare_data ( t=train ) : \n",
    "    # Convert strings to vectors of clean words\n",
    "    def str_to_vec ( s ) : \n",
    "        s = re.sub('[.,\\'\\\"]','',s) \n",
    "        s = s.lower() \n",
    "        return [ word for word in s.split() if word not in stop_words ]\n",
    "    str_vec = [ str_to_vec(s) for s in t[ 'strings' ] ] \n",
    "    def to_ascii ( s ) : \n",
    "        return [ ord(c) for c in s ]\n",
    "    # convert strings to ascii \n",
    "    ascii = [ to_ascii( s ) for s in t[ 'strings' ] ] \n",
    "    # numerically represent classes: ham: 0, spam: 1 \n",
    "    labels =[ { 'ham' : 0 , 'spam' : 1 }[x] for x in t['is_spam'] ] \n",
    "    return( ( labels , str_vec , ascii ) )\n",
    "\n",
    "train_labels , train_vec , train_ascii = prepare_data( train ) \n",
    "test_labels , test_vec , test_ascii = prepare_data( test ) "
   ]
  },
  {
   "cell_type": "markdown",
   "metadata": {},
   "source": [
    "#### Descriptive statistics\n",
    "The primary goal of data exploration is to gain meaningful insights into **featurization** and **strategic modelling**. Data exploration is an inherently messy process, so comments will be made throughout."
   ]
  },
  {
   "cell_type": "code",
   "execution_count": 21,
   "metadata": {},
   "outputs": [
    {
     "name": "stdout",
     "output_type": "stream",
     "text": [
      "Ratio spam: 0.105707106963\n",
      "Longest string: 910\n"
     ]
    },
    {
     "data": {
      "image/png": "[encoded data removed]",
      "text/plain": [
       "<matplotlib.figure.Figure at 0x7f415b5fbf90>"
      ]
     },
     "metadata": {},
     "output_type": "display_data"
    },
    {
     "data": {
      "image/png": "[encoded data removed]",
      "text/plain": [
       "<matplotlib.figure.Figure at 0x7f415b5fbfd0>"
      ]
     },
     "metadata": {},
     "output_type": "display_data"
    },
    {
     "data": {
      "image/png": "[encoded data removed]",
      "text/plain": [
       "<matplotlib.figure.Figure at 0x7f4158d09310>"
      ]
     },
     "metadata": {},
     "output_type": "display_data"
    }
   ],
   "source": [
    "# Useful summary statistics follow \n",
    "# ham relative to spam \n",
    "n_ham = np.sum( [ x == 'ham' for x in train[ 'is_spam' ] ] )\n",
    "n_spam = np.sum( [ x == 'spam' for x in train[ 'is_spam' ] ] )\n",
    "# percent spam \n",
    "print( 'Ratio spam: ' + str( n_spam / float(df.shape[0])) )  \n",
    "\n",
    "# Longest string \n",
    "print( 'Longest string: ' + str(np.max( [ len(x) for x in train['strings'] ] )) )  \n",
    "\n",
    "# length histogram \n",
    "plt.hist( [ len(x) for x in train['strings'] ] )\n",
    "plt.title( 'Lengths of all strings' ) \n",
    "plt.show() \n",
    "\n",
    "# spam length histogram \n",
    "plt.hist( [ len(train['strings'].iloc[i]) for i in range( train.shape[0] ) if train['is_spam'].iloc[i] == 'spam' ] ) \n",
    "plt.title( 'Length of spam strings' ) \n",
    "plt.show() \n",
    "\n",
    "# ham length histogram \n",
    "plt.hist( [ len(train['strings'].iloc[i]) for i in range( train.shape[0] ) if train['is_spam'].iloc[i] == 'ham' ] ) \n",
    "plt.title( 'Length of non-spam strings' ) \n",
    "plt.show() "
   ]
  },
  {
   "cell_type": "markdown",
   "metadata": {},
   "source": [
    "## 1B Strategy implementation\n",
    "We can see that spam strings tend to have a particular range of lengths relative to non-spam string lengths, making string length a target for **featurization**. We will now attempt to vectorize the text using word2vec. Separation will be demonstrated visually with a dimensional reduction technique (**t-SNE**)."
   ]
  },
  {
   "cell_type": "code",
   "execution_count": 22,
   "metadata": {},
   "outputs": [
    {
     "name": "stdout",
     "output_type": "stream",
     "text": [
      "Ratio of data destroyed by the word2vec pipeline: 0.012340139107\n"
     ]
    }
   ],
   "source": [
    "# length feature \n",
    "def featurize_length( s = train['strings'].iloc[0] ) : \n",
    "    l = len(s) \n",
    "    if l > 90 and l < 175 : \n",
    "        return 1\n",
    "    return 0 \n",
    "\n",
    "## t-SNE \n",
    "w2v_size = 100 \n",
    "w2v_model = gensim.models.Word2Vec( train_vec , min_count=3 , size = w2v_size ) \n",
    "\n",
    "# Featurize with word2vec\n",
    "def w2v_featurize ( vec = train_vec[0] ) : \n",
    "    return [ w2v_model[ s ] for s in vec if s in w2v_model.wv.vocab ] \n",
    "\n",
    "train_w2v_tmp = [ w2v_featurize( s ) for s in train_vec ] \n",
    "\n",
    "# how many sentences did not survive this pipeline? \n",
    "dead_sentences = np.sum( [ len( x ) == 0 for x in train_w2v_tmp ] ) \n",
    "print( 'Ratio of data destroyed by the word2vec pipeline: ' + str( dead_sentences / float( len( train_w2v_tmp ) ) ) ) "
   ]
  },
  {
   "cell_type": "markdown",
   "metadata": {},
   "source": [
    "#### Insight: \n",
    "The **w2v_featurize** function must be updated to handle destroyed data. "
   ]
  },
  {
   "cell_type": "code",
   "execution_count": 23,
   "metadata": {},
   "outputs": [
    {
     "name": "stdout",
     "output_type": "stream",
     "text": [
      "Training data (n_samples, n_dim): (4457, 100)\n"
     ]
    }
   ],
   "source": [
    "def w2v_featurize_2 ( vec = train_vec[0] ) : \n",
    "    t = [ w2v_model[ s ] for s in vec if s in w2v_model.wv.vocab ] \n",
    "    if len(t) == 0 : \n",
    "            return [0] * w2v_size \n",
    "    return np.mean( t , axis=0 ) # sentnce representation as individual vectors  \n",
    "\n",
    "train_w2v = np.asarray( [ w2v_featurize_2( s ) for s in train_vec ] ) \n",
    "\n",
    "print( 'Training data (n_samples, n_dim): ' + str( train_w2v.shape ) ) "
   ]
  },
  {
   "cell_type": "markdown",
   "metadata": {},
   "source": [
    "## 1C Strategy evaluation\n",
    "To evaluate the **word2vec** featurization, a **t-SNE** will be used to search for separation in data."
   ]
  },
  {
   "cell_type": "code",
   "execution_count": 24,
   "metadata": {},
   "outputs": [
    {
     "data": {
      "image/png": "[encoded data removed]",
      "text/plain": [
       "<matplotlib.figure.Figure at 0x7f416d67d1d0>"
      ]
     },
     "metadata": {},
     "output_type": "display_data"
    }
   ],
   "source": [
    "# subset data prior to running t-SNE, thereby making compute times tractable. \n",
    "t_sne_sub_size = 500 \n",
    "t_sne_sub_idx = np.random.choice( train_w2v.shape[0] , t_sne_sub_size , replace = False ) \n",
    "t_sne_x = np.asarray( [ train_w2v[i,:] for i in t_sne_sub_idx ] ) \n",
    "t_sne_y = [ train_labels[i] for i in t_sne_sub_idx ] \n",
    "\n",
    "# Now to dimensionally reduce with a t-SNE \n",
    "train_w2v_embedded = TSNE(n_components=2).fit_transform( X = t_sne_x , y = t_sne_y ) \n",
    "\n",
    "# viz time \n",
    "colour_codes = [ { 0 : 'r' , 1 : 'b' }[ x ] for x in t_sne_y ] \n",
    "plt.scatter( train_w2v_embedded[:,0] , train_w2v_embedded[:,1] , c = colour_codes ) \n",
    "plt.title('t-SNE')\n",
    "plt.show()"
   ]
  },
  {
   "cell_type": "markdown",
   "metadata": {},
   "source": [
    "#### Insight:\n",
    "Reliance on word2vec does not seem to produce any separation in the data. These features will not be used! I will now attempt a Naive Bayes approach."
   ]
  },
  {
   "cell_type": "markdown",
   "metadata": {},
   "source": [
    "# Cycle 2 - Naive Bayes\n",
    "\n",
    "## 2A Exploring data\n",
    "Most data formatting is already done. Only some featurization remains. We will use a multinomial Naive Bayes classifier, counting words to classify spam. As a bonus, we will use the string-length feature discovered earlier as an additional feature."
   ]
  },
  {
   "cell_type": "code",
   "execution_count": 25,
   "metadata": {},
   "outputs": [
    {
     "name": "stdout",
     "output_type": "stream",
     "text": [
      "Number of words observed at least 4 times: 1325\n"
     ]
    }
   ],
   "source": [
    "## Multinomial Naive Bayes featurization \n",
    "# Get all words \n",
    "train_strings = ''.join( train['strings'] ) # concatenate all strings  \n",
    "train_strings = re.sub('[.,\\'\\\"]','', train_strings ) # remove useless characters  \n",
    "train_strings = train_strings.lower() # to lower case \n",
    "train_strings = [ word for word in train_strings.split() if word not in stop_words ] # split by spaces and remove stop words\n",
    "df_ts = pa.DataFrame( train_strings , columns=['words'] )\n",
    "nb_min_obs = 4\n",
    "val_counts = df_ts['words'].value_counts()\n",
    "print( 'Number of words observed at least ' + str(nb_min_obs) + ' times: ' + str(np.sum( val_counts > nb_min_obs )) ) \n",
    "\n",
    "# the Naive Bayes words list   \n",
    "nb_words = [ val_counts.index[i] for i in range(len(val_counts.index)) if val_counts[i] > nb_min_obs ] \n",
    "\n",
    "def nb_featurize ( s=train['strings'].iloc[0] ) : \n",
    "    # format words \n",
    "    s = re.sub('[.,\\'\\\"]','', s ) \n",
    "    s = s.lower() \n",
    "    s = [ word for word in s.split() if word not in stop_words ] \n",
    "    # count words \n",
    "    d = dict( zip( nb_words , [0]*len(nb_words) ) ) \n",
    "    d['UNSEEN_WORDS'] = 0 \n",
    "    for word in s : \n",
    "        try : \n",
    "            d[ word ] += 1 \n",
    "        except : \n",
    "            d['UNSEEN_WORDS'] += 1 \n",
    "    count_features = d.values() \n",
    "    # now featurize length  \n",
    "    count_features.append( featurize_length( s ) ) \n",
    "    return count_features\n",
    "\n",
    "nb_train = np.asarray( [ nb_featurize( s ) for s in train['strings'] ] )"
   ]
  },
  {
   "cell_type": "markdown",
   "metadata": {},
   "source": [
    "## 2B Strategy implementation\n",
    "The SciKit-Learn library makes model fitting very easy."
   ]
  },
  {
   "cell_type": "code",
   "execution_count": 26,
   "metadata": {},
   "outputs": [
    {
     "data": {
      "text/plain": [
       "MultinomialNB(alpha=1.0, class_prior=None, fit_prior=True)"
      ]
     },
     "execution_count": 26,
     "metadata": {},
     "output_type": "execute_result"
    }
   ],
   "source": [
    "## Multinomial Naive Bayes \n",
    "mnb = MultinomialNB() \n",
    "mnb.fit( nb_train , train_labels )"
   ]
  },
  {
   "cell_type": "markdown",
   "metadata": {},
   "source": [
    "## 2C Strategy evaluation\n",
    "A testing data set will be used to evaluate the model. This work will focus on accuracy."
   ]
  },
  {
   "cell_type": "code",
   "execution_count": 27,
   "metadata": {},
   "outputs": [
    {
     "name": "stdout",
     "output_type": "stream",
     "text": [
      "Naive Bayes testing accuracy: 0.977578475336\n",
      "Naive Bayes testing precision, ham: 0.987447698745\n",
      "Naive Bayes testing precision, spam: 0.918238993711\n",
      "Naive Bayes testing recall, ham: 0.986415882968\n",
      "Naive Bayes testing recall, spam: 0.924050632911\n"
     ]
    }
   ],
   "source": [
    "nb_test = np.asarray( [ nb_featurize( s ) for s in test['strings'] ] )\n",
    "nb_pred = mnb.predict( nb_test ) \n",
    "\n",
    "print( 'Naive Bayes testing accuracy: ' + str(sk.metrics.accuracy_score( test_labels , nb_pred )))\n",
    "print( 'Naive Bayes testing precision, ham: ' + str(sk.metrics.precision_score( test_labels , nb_pred , pos_label=0 )))\n",
    "print( 'Naive Bayes testing precision, spam: ' + str(sk.metrics.precision_score( test_labels , nb_pred , pos_label=1 )))\n",
    "print( 'Naive Bayes testing recall, ham: ' + str(sk.metrics.recall_score( test_labels , nb_pred , pos_label=0 )))\n",
    "print( 'Naive Bayes testing recall, spam: ' + str(sk.metrics.recall_score( test_labels , nb_pred , pos_label=1 )))"
   ]
  },
  {
   "cell_type": "markdown",
   "metadata": {},
   "source": [
    "#### Insight: \n",
    "Naive Bayes classification is highly effective in our testing data set, with an accuracy of 97.8%.\n",
    "\n",
    "# Conclusion\n",
    "An SMS spam detection problem was solved by applying the data science problem solving cycle. The final solution is a Naive Bayes classifier, using data products and features developed in earleir cycles. While achieving 98% accuracy is good, it may be possible to improve on this strategy with a deep recurrent neural network. Better yet, an ensemble classifier would likely perform better. It is important to note that application of deep learning and ensemble modelling runs the risk of over-fitting due, and can be avoided by either using small models or regularization."
   ]
  }
 ],
 "metadata": {
  "kernelspec": {
   "display_name": "Python 2",
   "language": "python",
   "name": "python2"
  },
  "language_info": {
   "codemirror_mode": {
    "name": "ipython",
    "version": 2
   },
   "file_extension": ".py",
   "mimetype": "text/x-python",
   "name": "python",
   "nbconvert_exporter": "python",
   "pygments_lexer": "ipython2",
   "version": "2.7.13"
  }
 },
 "nbformat": 4,
 "nbformat_minor": 2
}
